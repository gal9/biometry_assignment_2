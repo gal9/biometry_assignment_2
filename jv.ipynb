{
 "cells": [
  {
   "cell_type": "code",
   "execution_count": null,
   "metadata": {},
   "outputs": [],
   "source": [
    "from src.jv import pr_score\n",
    "import cv2 as cv\n",
    "\n",
    "minNeighbours_list = [1, 2, 3, 4, 5, 8, 10]\n",
    "scaleFactor_list = [1.1, 1.2, 1.3, 1.6, 1.9, 2.0]\n",
    "\n",
    "minNeighbours_list = [3]\n",
    "scaleFactor_list = [1.1]\n",
    "\n",
    "right_cascade = cv.CascadeClassifier()\n",
    "left_cascade = cv.CascadeClassifier()\n",
    "\n",
    "right_cascade.load(\"haarcascade_mcs_rightear.xml\")\n",
    "left_cascade.load(\"haarcascade_mcs_leftear.xml\")"
   ]
  },
  {
   "cell_type": "code",
   "execution_count": null,
   "metadata": {},
   "outputs": [],
   "source": [
    "for minNeighbours in minNeighbours_list:\n",
    "    for scaleFactor in scaleFactor_list:\n",
    "        pr_score(right_cascade, left_cascade, minNeighbours, scaleFactor)"
   ]
  },
  {
   "cell_type": "code",
   "execution_count": null,
   "metadata": {},
   "outputs": [],
   "source": []
  },
  {
   "cell_type": "code",
   "execution_count": null,
   "metadata": {},
   "outputs": [],
   "source": []
  }
 ],
 "metadata": {
  "kernelspec": {
   "display_name": "Python 3.9.0",
   "language": "python",
   "name": "python3"
  },
  "language_info": {
   "name": "python",
   "version": "3.9.0"
  },
  "orig_nbformat": 4,
  "vscode": {
   "interpreter": {
    "hash": "5c13dbc957bb8477a7893c79680d2a6cafd4dd4044001ad54528252da2651a6e"
   }
  }
 },
 "nbformat": 4,
 "nbformat_minor": 2
}
